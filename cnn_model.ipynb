{
 "cells": [
  {
   "cell_type": "markdown",
   "metadata": {},
   "source": [
    "# Implémentation d'un Réseau de Neurones Convolutif (CNN) en NumPy\n",
    "\n",
    "## Introduction\n",
    "Ce projet implémente un **réseau de neurones convolutif (CNN)** pour la classification du dataset **MNIST**, sans utiliser TensorFlow ou PyTorch.  \n",
    "L'objectif est d'implémenter toutes les étapes du CNN **manuellement avec NumPy**, en comprenant en détail chaque opération.  \n",
    " \n",
    "\n",
    "## Fonctionnalités  \n",
    "### 1. Chargement et Prétraitement des Données  \n",
    "### 2. Architecture du Modèle  \n",
    "### 3. Entraînement du Modèle  \n",
    "### 4. Prédictions et Évaluation  \n",
    "### 5. Visualisation des Prédictions  "
   ]
  },
  {
   "cell_type": "markdown",
   "metadata": {},
   "source": [
    " ## Importation des bibliothèques"
   ]
  },
  {
   "cell_type": "code",
   "execution_count": 2,
   "metadata": {},
   "outputs": [],
   "source": [
    "import numpy as np\n",
    "import pandas as pd\n",
    "from matplotlib import pyplot as plt"
   ]
  },
  {
   "cell_type": "markdown",
   "metadata": {
    "slideshow": {
     "slide_type": "subslide"
    }
   },
   "source": [
    "## Préparation des Données"
   ]
  },
  {
   "cell_type": "code",
   "execution_count": 7,
   "metadata": {},
   "outputs": [
    {
     "data": {
      "text/html": [
       "<div>\n",
       "<style scoped>\n",
       "    .dataframe tbody tr th:only-of-type {\n",
       "        vertical-align: middle;\n",
       "    }\n",
       "\n",
       "    .dataframe tbody tr th {\n",
       "        vertical-align: top;\n",
       "    }\n",
       "\n",
       "    .dataframe thead th {\n",
       "        text-align: right;\n",
       "    }\n",
       "</style>\n",
       "<table border=\"1\" class=\"dataframe\">\n",
       "  <thead>\n",
       "    <tr style=\"text-align: right;\">\n",
       "      <th></th>\n",
       "      <th>5</th>\n",
       "      <th>0</th>\n",
       "      <th>0.1</th>\n",
       "      <th>0.2</th>\n",
       "      <th>0.3</th>\n",
       "      <th>0.4</th>\n",
       "      <th>0.5</th>\n",
       "      <th>0.6</th>\n",
       "      <th>0.7</th>\n",
       "      <th>0.8</th>\n",
       "      <th>...</th>\n",
       "      <th>0.608</th>\n",
       "      <th>0.609</th>\n",
       "      <th>0.610</th>\n",
       "      <th>0.611</th>\n",
       "      <th>0.612</th>\n",
       "      <th>0.613</th>\n",
       "      <th>0.614</th>\n",
       "      <th>0.615</th>\n",
       "      <th>0.616</th>\n",
       "      <th>0.617</th>\n",
       "    </tr>\n",
       "  </thead>\n",
       "  <tbody>\n",
       "    <tr>\n",
       "      <th>0</th>\n",
       "      <td>0</td>\n",
       "      <td>0</td>\n",
       "      <td>0</td>\n",
       "      <td>0</td>\n",
       "      <td>0</td>\n",
       "      <td>0</td>\n",
       "      <td>0</td>\n",
       "      <td>0</td>\n",
       "      <td>0</td>\n",
       "      <td>0</td>\n",
       "      <td>...</td>\n",
       "      <td>0</td>\n",
       "      <td>0</td>\n",
       "      <td>0</td>\n",
       "      <td>0</td>\n",
       "      <td>0</td>\n",
       "      <td>0</td>\n",
       "      <td>0</td>\n",
       "      <td>0</td>\n",
       "      <td>0</td>\n",
       "      <td>0</td>\n",
       "    </tr>\n",
       "    <tr>\n",
       "      <th>1</th>\n",
       "      <td>4</td>\n",
       "      <td>0</td>\n",
       "      <td>0</td>\n",
       "      <td>0</td>\n",
       "      <td>0</td>\n",
       "      <td>0</td>\n",
       "      <td>0</td>\n",
       "      <td>0</td>\n",
       "      <td>0</td>\n",
       "      <td>0</td>\n",
       "      <td>...</td>\n",
       "      <td>0</td>\n",
       "      <td>0</td>\n",
       "      <td>0</td>\n",
       "      <td>0</td>\n",
       "      <td>0</td>\n",
       "      <td>0</td>\n",
       "      <td>0</td>\n",
       "      <td>0</td>\n",
       "      <td>0</td>\n",
       "      <td>0</td>\n",
       "    </tr>\n",
       "    <tr>\n",
       "      <th>2</th>\n",
       "      <td>1</td>\n",
       "      <td>0</td>\n",
       "      <td>0</td>\n",
       "      <td>0</td>\n",
       "      <td>0</td>\n",
       "      <td>0</td>\n",
       "      <td>0</td>\n",
       "      <td>0</td>\n",
       "      <td>0</td>\n",
       "      <td>0</td>\n",
       "      <td>...</td>\n",
       "      <td>0</td>\n",
       "      <td>0</td>\n",
       "      <td>0</td>\n",
       "      <td>0</td>\n",
       "      <td>0</td>\n",
       "      <td>0</td>\n",
       "      <td>0</td>\n",
       "      <td>0</td>\n",
       "      <td>0</td>\n",
       "      <td>0</td>\n",
       "    </tr>\n",
       "    <tr>\n",
       "      <th>3</th>\n",
       "      <td>9</td>\n",
       "      <td>0</td>\n",
       "      <td>0</td>\n",
       "      <td>0</td>\n",
       "      <td>0</td>\n",
       "      <td>0</td>\n",
       "      <td>0</td>\n",
       "      <td>0</td>\n",
       "      <td>0</td>\n",
       "      <td>0</td>\n",
       "      <td>...</td>\n",
       "      <td>0</td>\n",
       "      <td>0</td>\n",
       "      <td>0</td>\n",
       "      <td>0</td>\n",
       "      <td>0</td>\n",
       "      <td>0</td>\n",
       "      <td>0</td>\n",
       "      <td>0</td>\n",
       "      <td>0</td>\n",
       "      <td>0</td>\n",
       "    </tr>\n",
       "    <tr>\n",
       "      <th>4</th>\n",
       "      <td>2</td>\n",
       "      <td>0</td>\n",
       "      <td>0</td>\n",
       "      <td>0</td>\n",
       "      <td>0</td>\n",
       "      <td>0</td>\n",
       "      <td>0</td>\n",
       "      <td>0</td>\n",
       "      <td>0</td>\n",
       "      <td>0</td>\n",
       "      <td>...</td>\n",
       "      <td>0</td>\n",
       "      <td>0</td>\n",
       "      <td>0</td>\n",
       "      <td>0</td>\n",
       "      <td>0</td>\n",
       "      <td>0</td>\n",
       "      <td>0</td>\n",
       "      <td>0</td>\n",
       "      <td>0</td>\n",
       "      <td>0</td>\n",
       "    </tr>\n",
       "  </tbody>\n",
       "</table>\n",
       "<p>5 rows × 785 columns</p>\n",
       "</div>"
      ],
      "text/plain": [
       "   5  0  0.1  0.2  0.3  0.4  0.5  0.6  0.7  0.8  ...  0.608  0.609  0.610  \\\n",
       "0  0  0    0    0    0    0    0    0    0    0  ...      0      0      0   \n",
       "1  4  0    0    0    0    0    0    0    0    0  ...      0      0      0   \n",
       "2  1  0    0    0    0    0    0    0    0    0  ...      0      0      0   \n",
       "3  9  0    0    0    0    0    0    0    0    0  ...      0      0      0   \n",
       "4  2  0    0    0    0    0    0    0    0    0  ...      0      0      0   \n",
       "\n",
       "   0.611  0.612  0.613  0.614  0.615  0.616  0.617  \n",
       "0      0      0      0      0      0      0      0  \n",
       "1      0      0      0      0      0      0      0  \n",
       "2      0      0      0      0      0      0      0  \n",
       "3      0      0      0      0      0      0      0  \n",
       "4      0      0      0      0      0      0      0  \n",
       "\n",
       "[5 rows x 785 columns]"
      ]
     },
     "execution_count": 7,
     "metadata": {},
     "output_type": "execute_result"
    }
   ],
   "source": [
    "data = pd.read_csv(\"C:\\\\Users\\\\PC\\\\Documents\\\\Convolutional Neural Network(CNN)\\\\mnist_train.csv\")\n",
    "data.head()"
   ]
  },
  {
   "cell_type": "code",
   "execution_count": 9,
   "metadata": {},
   "outputs": [
    {
     "data": {
      "text/plain": [
       "(59999, 785)"
      ]
     },
     "execution_count": 9,
     "metadata": {},
     "output_type": "execute_result"
    }
   ],
   "source": [
    "data.shape"
   ]
  },
  {
   "cell_type": "markdown",
   "metadata": {},
   "source": [
    "## Architecture du Modèle\n",
    "### 1. **Entrée**  \n",
    "- Une image **28x28 pixels** est aplatie en un vecteur de **784 valeurs** (1D).  \n",
    "- Chaque pixel est normalisé entre **0 et 1**.  \n",
    "\n",
    "### 2. **Couche Cachée (Layer 1)**  \n",
    "- **784 neurones d'entrée → 10 neurones cachés**.  \n",
    "- Poids **W1** : Matrice **(10, 784)** initialisée aléatoirement.  \n",
    "- Biais **b1** : Vecteur **(10,1)** initialisé à 0.  \n",
    "- Activation : **ReLU**.  \n",
    "\n",
    "### 3. **Couche de Sortie (Layer 2)**  \n",
    "- **10 neurones cachés → 10 neurones de sortie** (un pour chaque chiffre de 0 à 9).  \n",
    "- Poids **W2** : Matrice **(10, 10)** initialisée aléatoirement.  \n",
    "- Biais **b2** : Vecteur **(10,1)** initialisé à 0.  \n",
    "- Activation : **Softmax** (probabilités de classification).  \n",
    "\n",
    "### 4. **Optimisation**  \n",
    "- Fonction de coût : **Cross-Entropy Loss**.  \n",
    "- Mise à jour des paramètres avec la **descente de gradient**.  \n",
    "- Calcul des gradients via **la rétropropagation**.  \n",
    "\n",
    "### 5. **Prédictions & Évaluation**  \n",
    "- La classe prédite est l’indice du neurone de sortie avec la plus grande activation.  \n",
    "- Évaluation basée sur **l'exactitude (accuracy)**. "
   ]
  },
  {
   "cell_type": "markdown",
   "metadata": {},
   "source": [
    "## Séparation en jeu de développement et d'entraînement"
   ]
  },
  {
   "cell_type": "code",
   "execution_count": null,
   "metadata": {},
   "outputs": [],
   "source": [
    "data = np.array(data)\n",
    "m, n = data.shape\n",
    "np.random.shuffle(data)  # Mélange des données avant la séparation\n",
    "\n",
    "# Séparation en jeu de développement et d'entraînement\n",
    "data_dev = data[:1000].T\n",
    "Y_dev = data_dev[0]\n",
    "X_dev = data_dev[1:n] / 255.\n",
    "\n",
    "data_train = data[1000:].T\n",
    "Y_train = data_train[0]\n",
    "X_train = data_train[1:n] / 255.\n",
    "_, m_train = X_train.shape\n"
   ]
  },
  {
   "cell_type": "markdown",
   "metadata": {},
   "source": [
    " ## Initialisation des Paramètres"
   ]
  },
  {
   "cell_type": "code",
   "execution_count": 20,
   "metadata": {},
   "outputs": [],
   "source": [
    "def init_params():\n",
    "    np.random.seed(42)  # Pour des résultats reproductibles\n",
    "    W1 = np.random.randn(10, 784) * 0.01\n",
    "    b1 = np.zeros((10, 1))\n",
    "    W2 = np.random.randn(10, 10) * 0.01\n",
    "    b2 = np.zeros((10, 1))\n",
    "    return W1, b1, W2, b2\n"
   ]
  },
  {
   "cell_type": "markdown",
   "metadata": {
    "slideshow": {
     "slide_type": "subslide"
    }
   },
   "source": [
    "## Fonctions d'Activation"
   ]
  },
  {
   "cell_type": "code",
   "execution_count": 21,
   "metadata": {},
   "outputs": [],
   "source": [
    "def ReLU(Z):\n",
    "    return np.maximum(Z, 0)\n",
    "\n",
    "def softmax(Z):\n",
    "    expZ = np.exp(Z - np.max(Z, axis=0, keepdims=True))  # Stabilisation numérique\n",
    "    return expZ / np.sum(expZ, axis=0, keepdims=True)\n"
   ]
  },
  {
   "cell_type": "markdown",
   "metadata": {},
   "source": [
    "## Forward Propagation"
   ]
  },
  {
   "cell_type": "code",
   "execution_count": 22,
   "metadata": {},
   "outputs": [],
   "source": [
    "def forward_prop(W1, b1, W2, b2, X):\n",
    "    Z1 = W1.dot(X) + b1\n",
    "    A1 = ReLU(Z1)\n",
    "    Z2 = W2.dot(A1) + b2\n",
    "    A2 = softmax(Z2)\n",
    "    return Z1, A1, Z2, A2\n"
   ]
  },
  {
   "cell_type": "markdown",
   "metadata": {},
   "source": [
    "## Fonction One-Hot Encoding"
   ]
  },
  {
   "cell_type": "code",
   "execution_count": 23,
   "metadata": {},
   "outputs": [],
   "source": [
    "def one_hot(Y, num_classes=10):\n",
    "    one_hot_Y = np.zeros((num_classes, Y.size))\n",
    "    one_hot_Y[Y, np.arange(Y.size)] = 1\n",
    "    return one_hot_Y\n"
   ]
  },
  {
   "cell_type": "markdown",
   "metadata": {},
   "source": [
    "## Dérivée de ReLU"
   ]
  },
  {
   "cell_type": "code",
   "execution_count": 24,
   "metadata": {},
   "outputs": [],
   "source": [
    "def ReLU_deriv(Z):\n",
    "    return Z > 0\n"
   ]
  },
  {
   "cell_type": "markdown",
   "metadata": {},
   "source": [
    "## Backward Propagation"
   ]
  },
  {
   "cell_type": "code",
   "execution_count": 25,
   "metadata": {},
   "outputs": [],
   "source": [
    "def backward_prop(Z1, A1, Z2, A2, W1, W2, X, Y):\n",
    "    m = Y.size\n",
    "    one_hot_Y = one_hot(Y)\n",
    "    \n",
    "    dZ2 = A2 - one_hot_Y\n",
    "    dW2 = (1 / m) * dZ2.dot(A1.T)\n",
    "    db2 = (1 / m) * np.sum(dZ2, axis=1, keepdims=True)\n",
    "    \n",
    "    dZ1 = W2.T.dot(dZ2) * ReLU_deriv(Z1)\n",
    "    dW1 = (1 / m) * dZ1.dot(X.T)\n",
    "    db1 = (1 / m) * np.sum(dZ1, axis=1, keepdims=True)\n",
    "    \n",
    "    return dW1, db1, dW2, db2\n"
   ]
  },
  {
   "cell_type": "markdown",
   "metadata": {},
   "source": [
    "## Mise à Jour des Paramètres"
   ]
  },
  {
   "cell_type": "code",
   "execution_count": 26,
   "metadata": {},
   "outputs": [],
   "source": [
    "def update_params(W1, b1, W2, b2, dW1, db1, dW2, db2, alpha):\n",
    "    W1 -= alpha * dW1\n",
    "    b1 -= alpha * db1    \n",
    "    W2 -= alpha * dW2  \n",
    "    b2 -= alpha * db2    \n",
    "    return W1, b1, W2, b2\n"
   ]
  },
  {
   "cell_type": "markdown",
   "metadata": {},
   "source": [
    "## Prédiction et Précision"
   ]
  },
  {
   "cell_type": "code",
   "execution_count": 27,
   "metadata": {},
   "outputs": [],
   "source": [
    "def get_predictions(A2):\n",
    "    return np.argmax(A2, axis=0)\n",
    "\n",
    "def get_accuracy(predictions, Y):\n",
    "    return np.sum(predictions == Y) / Y.size\n"
   ]
  },
  {
   "cell_type": "markdown",
   "metadata": {},
   "source": [
    "## Descente de Gradient (Entraînement du Modèle)"
   ]
  },
  {
   "cell_type": "code",
   "execution_count": 28,
   "metadata": {},
   "outputs": [],
   "source": [
    "def gradient_descent(X, Y, alpha, iterations):\n",
    "    W1, b1, W2, b2 = init_params()\n",
    "    for i in range(iterations):\n",
    "        Z1, A1, Z2, A2 = forward_prop(W1, b1, W2, b2, X)\n",
    "        dW1, db1, dW2, db2 = backward_prop(Z1, A1, Z2, A2, W1, W2, X, Y)\n",
    "        W1, b1, W2, b2 = update_params(W1, b1, W2, b2, dW1, db1, dW2, db2, alpha)\n",
    "        \n",
    "        if i % 10 == 0:\n",
    "            predictions = get_predictions(A2)\n",
    "            acc = get_accuracy(predictions, Y)\n",
    "            print(f\"Iteration {i}: Accuracy = {acc:.4f}\")\n",
    "    \n",
    "    return W1, b1, W2, b2\n"
   ]
  },
  {
   "cell_type": "markdown",
   "metadata": {},
   "source": [
    "## Entraînement du Modèle"
   ]
  },
  {
   "cell_type": "code",
   "execution_count": 37,
   "metadata": {},
   "outputs": [
    {
     "name": "stdout",
     "output_type": "stream",
     "text": [
      "Iteration 0: Accuracy = 0.1236\n",
      "Iteration 10: Accuracy = 0.2087\n",
      "Iteration 20: Accuracy = 0.2588\n",
      "Iteration 30: Accuracy = 0.3021\n",
      "Iteration 40: Accuracy = 0.3492\n",
      "Iteration 50: Accuracy = 0.4382\n",
      "Iteration 60: Accuracy = 0.4762\n",
      "Iteration 70: Accuracy = 0.5068\n",
      "Iteration 80: Accuracy = 0.5655\n",
      "Iteration 90: Accuracy = 0.6139\n",
      "Iteration 100: Accuracy = 0.6430\n",
      "Iteration 110: Accuracy = 0.6693\n",
      "Iteration 120: Accuracy = 0.6930\n",
      "Iteration 130: Accuracy = 0.7109\n",
      "Iteration 140: Accuracy = 0.7269\n",
      "Iteration 150: Accuracy = 0.7413\n",
      "Iteration 160: Accuracy = 0.7547\n",
      "Iteration 170: Accuracy = 0.7667\n",
      "Iteration 180: Accuracy = 0.7777\n",
      "Iteration 190: Accuracy = 0.7879\n",
      "Iteration 200: Accuracy = 0.7968\n",
      "Iteration 210: Accuracy = 0.8060\n",
      "Iteration 220: Accuracy = 0.8144\n",
      "Iteration 230: Accuracy = 0.8225\n",
      "Iteration 240: Accuracy = 0.8296\n",
      "Iteration 250: Accuracy = 0.8361\n",
      "Iteration 260: Accuracy = 0.8423\n",
      "Iteration 270: Accuracy = 0.8480\n",
      "Iteration 280: Accuracy = 0.8527\n",
      "Iteration 290: Accuracy = 0.8560\n",
      "Iteration 300: Accuracy = 0.8596\n",
      "Iteration 310: Accuracy = 0.8623\n",
      "Iteration 320: Accuracy = 0.8649\n",
      "Iteration 330: Accuracy = 0.8673\n",
      "Iteration 340: Accuracy = 0.8692\n",
      "Iteration 350: Accuracy = 0.8716\n",
      "Iteration 360: Accuracy = 0.8731\n",
      "Iteration 370: Accuracy = 0.8750\n",
      "Iteration 380: Accuracy = 0.8767\n",
      "Iteration 390: Accuracy = 0.8783\n",
      "Iteration 400: Accuracy = 0.8798\n",
      "Iteration 410: Accuracy = 0.8813\n",
      "Iteration 420: Accuracy = 0.8825\n",
      "Iteration 430: Accuracy = 0.8836\n",
      "Iteration 440: Accuracy = 0.8847\n",
      "Iteration 450: Accuracy = 0.8860\n",
      "Iteration 460: Accuracy = 0.8868\n",
      "Iteration 470: Accuracy = 0.8880\n",
      "Iteration 480: Accuracy = 0.8890\n",
      "Iteration 490: Accuracy = 0.8900\n",
      "Iteration 500: Accuracy = 0.8907\n",
      "Iteration 510: Accuracy = 0.8915\n",
      "Iteration 520: Accuracy = 0.8923\n",
      "Iteration 530: Accuracy = 0.8931\n",
      "Iteration 540: Accuracy = 0.8939\n",
      "Iteration 550: Accuracy = 0.8946\n",
      "Iteration 560: Accuracy = 0.8953\n",
      "Iteration 570: Accuracy = 0.8959\n",
      "Iteration 580: Accuracy = 0.8964\n",
      "Iteration 590: Accuracy = 0.8969\n",
      "Iteration 600: Accuracy = 0.8975\n",
      "Iteration 610: Accuracy = 0.8979\n",
      "Iteration 620: Accuracy = 0.8983\n",
      "Iteration 630: Accuracy = 0.8988\n",
      "Iteration 640: Accuracy = 0.8996\n",
      "Iteration 650: Accuracy = 0.8999\n",
      "Iteration 660: Accuracy = 0.9003\n",
      "Iteration 670: Accuracy = 0.9008\n",
      "Iteration 680: Accuracy = 0.9011\n",
      "Iteration 690: Accuracy = 0.9015\n",
      "Iteration 700: Accuracy = 0.9018\n",
      "Iteration 710: Accuracy = 0.9022\n",
      "Iteration 720: Accuracy = 0.9025\n",
      "Iteration 730: Accuracy = 0.9029\n",
      "Iteration 740: Accuracy = 0.9033\n",
      "Iteration 750: Accuracy = 0.9038\n",
      "Iteration 760: Accuracy = 0.9041\n",
      "Iteration 770: Accuracy = 0.9042\n",
      "Iteration 780: Accuracy = 0.9046\n",
      "Iteration 790: Accuracy = 0.9048\n",
      "Iteration 800: Accuracy = 0.9051\n",
      "Iteration 810: Accuracy = 0.9054\n",
      "Iteration 820: Accuracy = 0.9058\n",
      "Iteration 830: Accuracy = 0.9060\n",
      "Iteration 840: Accuracy = 0.9062\n",
      "Iteration 850: Accuracy = 0.9064\n",
      "Iteration 860: Accuracy = 0.9065\n",
      "Iteration 870: Accuracy = 0.9066\n",
      "Iteration 880: Accuracy = 0.9069\n",
      "Iteration 890: Accuracy = 0.9073\n",
      "Iteration 900: Accuracy = 0.9075\n",
      "Iteration 910: Accuracy = 0.9077\n",
      "Iteration 920: Accuracy = 0.9078\n",
      "Iteration 930: Accuracy = 0.9080\n",
      "Iteration 940: Accuracy = 0.9082\n",
      "Iteration 950: Accuracy = 0.9084\n",
      "Iteration 960: Accuracy = 0.9086\n",
      "Iteration 970: Accuracy = 0.9090\n",
      "Iteration 980: Accuracy = 0.9092\n",
      "Iteration 990: Accuracy = 0.9094\n"
     ]
    }
   ],
   "source": [
    "W1, b1, W2, b2 = gradient_descent(X_train, Y_train, alpha=0.1, iterations=1000)\n"
   ]
  },
  {
   "cell_type": "markdown",
   "metadata": {},
   "source": [
    "## Fonction de Prédiction sur une Image"
   ]
  },
  {
   "cell_type": "code",
   "execution_count": 38,
   "metadata": {},
   "outputs": [],
   "source": [
    "def make_predictions(X, W1, b1, W2, b2):\n",
    "    _, _, _, A2 = forward_prop(W1, b1, W2, b2, X)\n",
    "    return get_predictions(A2)\n"
   ]
  },
  {
   "cell_type": "markdown",
   "metadata": {},
   "source": [
    "## Test de Prédiction sur une Image du Dataset"
   ]
  },
  {
   "cell_type": "code",
   "execution_count": 39,
   "metadata": {},
   "outputs": [],
   "source": [
    "def test_prediction(index, W1, b1, W2, b2):\n",
    "    current_image = X_train[:, index].reshape(28, 28)\n",
    "    prediction = make_predictions(X_train[:, index, None], W1, b1, W2, b2)\n",
    "    label = Y_train[index]\n",
    "    \n",
    "    print(\"Prédiction:\", prediction)\n",
    "    print(\"Vraie étiquette:\", label)\n",
    "    \n",
    "    plt.gray()\n",
    "    plt.imshow(current_image, interpolation='nearest')\n",
    "    plt.show()\n"
   ]
  },
  {
   "cell_type": "code",
   "execution_count": 40,
   "metadata": {},
   "outputs": [
    {
     "name": "stdout",
     "output_type": "stream",
     "text": [
      "Prédiction: [4]\n",
      "Vraie étiquette: 6\n"
     ]
    },
    {
     "data": {
      "image/png": "[encoded data removed]",
      "text/plain": [
       "<Figure size 640x480 with 1 Axes>"
      ]
     },
     "metadata": {},
     "output_type": "display_data"
    },
    {
     "name": "stdout",
     "output_type": "stream",
     "text": [
      "Prédiction: [3]\n",
      "Vraie étiquette: 3\n"
     ]
    },
    {
     "data": {
      "image/png": "[encoded data removed]",
      "text/plain": [
       "<Figure size 640x480 with 1 Axes>"
      ]
     },
     "metadata": {},
     "output_type": "display_data"
    },
    {
     "name": "stdout",
     "output_type": "stream",
     "text": [
      "Prédiction: [2]\n",
      "Vraie étiquette: 2\n"
     ]
    },
    {
     "data": {
      "image/png": "[encoded data removed]",
      "text/plain": [
       "<Figure size 640x480 with 1 Axes>"
      ]
     },
     "metadata": {},
     "output_type": "display_data"
    },
    {
     "name": "stdout",
     "output_type": "stream",
     "text": [
      "Prédiction: [6]\n",
      "Vraie étiquette: 6\n"
     ]
    },
    {
     "data": {
      "image/png": "[encoded data removed]",
      "text/plain": [
       "<Figure size 640x480 with 1 Axes>"
      ]
     },
     "metadata": {},
     "output_type": "display_data"
    },
    {
     "name": "stdout",
     "output_type": "stream",
     "text": [
      "Prédiction: [5]\n",
      "Vraie étiquette: 5\n"
     ]
    },
    {
     "data": {
      "image/png": "[encoded data removed]",
      "text/plain": [
       "<Figure size 640x480 with 1 Axes>"
      ]
     },
     "metadata": {},
     "output_type": "display_data"
    }
   ],
   "source": [
    "# Vérifier quelques prédictions\n",
    "for i in range(5):  # Tester les 5 premières images\n",
    "    test_prediction(i, W1, b1, W2, b2)\n",
    "\n"
   ]
  }
 ],
 "metadata": {
  "kernelspec": {
   "display_name": "Python 3",
   "language": "python",
   "name": "python3"
  },
  "language_info": {
   "codemirror_mode": {
    "name": "ipython",
    "version": 3
   },
   "file_extension": ".py",
   "mimetype": "text/x-python",
   "name": "python",
   "nbconvert_exporter": "python",
   "pygments_lexer": "ipython3",
   "version": "3.11.9"
  }
 },
 "nbformat": 4,
 "nbformat_minor": 2
}
